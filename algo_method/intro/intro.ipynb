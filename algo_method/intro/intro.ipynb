{
 "cells": [
  {
   "cell_type": "code",
   "execution_count": 2,
   "metadata": {},
   "outputs": [
    {
     "name": "stdout",
     "output_type": "stream",
     "text": [
      "False\n"
     ]
    }
   ],
   "source": [
    "print('True' == True)\n",
    "# type is different"
   ]
  },
  {
   "cell_type": "code",
   "execution_count": 3,
   "metadata": {},
   "outputs": [
    {
     "name": "stdout",
     "output_type": "stream",
     "text": [
      "What!?\n"
     ]
    }
   ],
   "source": [
    "if 'True':\n",
    "    print('What!?')\n"
   ]
  },
  {
   "cell_type": "code",
   "execution_count": 1,
   "metadata": {},
   "outputs": [
    {
     "data": {
      "text/plain": [
       "'algoalgoalgo'"
      ]
     },
     "execution_count": 1,
     "metadata": {},
     "output_type": "execute_result"
    }
   ],
   "source": [
    "s = 'algo'\n",
    "s * 3"
   ]
  },
  {
   "cell_type": "code",
   "execution_count": 1,
   "metadata": {},
   "outputs": [
    {
     "name": "stdout",
     "output_type": "stream",
     "text": [
      "-1\n"
     ]
    }
   ],
   "source": [
    "S = 'eleven'\n",
    "\n",
    "# 英単語をキーとし、対応する数字を値とする辞書型の変数\n",
    "numbers_dict = {\n",
    "    \"one\": 1, \"two\": 2, \"three\": 3, \"four\": 4, \"five\": 5,\n",
    "    \"six\": 6, \"seven\": 7, \"eight\": 8, \"nine\": 9, \"ten\": 10\n",
    "}\n",
    "# 1. \n",
    "# if S in numbers_dict:\n",
    "#     print(numbers_dict[S])\n",
    "# else:\n",
    "#     print(-1)\n",
    "\n",
    "# 2. \n",
    "print(numbers_dict.get(S, -1))"
   ]
  },
  {
   "cell_type": "code",
   "execution_count": 2,
   "metadata": {},
   "outputs": [
    {
     "name": "stdout",
     "output_type": "stream",
     "text": [
      "93\n",
      "116\n",
      "103\n",
      "102\n",
      "93\n",
      "97\n",
      "94\n",
      "95\n",
      "101\n",
      "106\n"
     ]
    }
   ],
   "source": [
    "pi = '3.1415926535897932384626433832795028841971693993751058209749445923078164062862089986280348253421170679821480865132823066470938446095505822317253594081284811174502841027019385211055596446229489549303819644288109756659334461284756482337867831652712019091456485669234603486104543266482133936072602491412737245870066063155881748815209209628292540917153643678925903600113305305488204665213841469519415116094330572703657595919530921861173819326117931051185480744623799627495673518857527248912279381830119491298336733624406566430860213949463952247371907021798609437027705392171762931767523846748184676694051320005681271452635608277857713427577896091736371787214684409012249534301465495853710507922796892589235420199561121290219608640344181598136297747713099605187072113499999983729780499510597317328160963185950244594553469083026425223082533446850352619311881710100031378387528865875332083814206171776691473035982534904287554687311595628638823537875937519577818577805321712268066130019278766111959092164201989'\n",
    "\n",
    "counts = dict()\n",
    "for c in pi[2:]:\n",
    "    counts[c] = counts.get(c, 0) + 1\n",
    "\n",
    "for i in range(10):\n",
    "    # if the dictionary 'counts' has no key 'i', then it occurs an error.\n",
    "    print(counts.get(str(i), 0))\n"
   ]
  },
  {
   "cell_type": "code",
   "execution_count": 1,
   "metadata": {},
   "outputs": [
    {
     "name": "stdout",
     "output_type": "stream",
     "text": [
      "No\n"
     ]
    }
   ],
   "source": [
    "S = 'どらごん'\n",
    "\n",
    "# 十二支の動物名を平仮名で格納したリスト\n",
    "ZODIAC = [\n",
    "    \"ねずみ\", \"うし\", \"とら\", \"うさぎ\", \"たつ\", \"へび\",\n",
    "    \"うま\", \"ひつじ\", \"さる\", \"にわとり\", \"いぬ\", \"いのしし\" \n",
    "]\n",
    "\n",
    "# 1. \n",
    "# if S in ZODIAC:\n",
    "#     print('Yes')\n",
    "# else:\n",
    "#     print('No')\n",
    "\n",
    "# 2. \n",
    "for z in ZODIAC:\n",
    "    if S == z:\n",
    "        print('Yes')\n",
    "        break\n",
    "else:\n",
    "    print('No')\n",
    "\n",
    "# 3. \n",
    "# f = False\n",
    "# for z in ZODIAC:\n",
    "#     if S == z:\n",
    "#         f = True\n",
    "#         break\n",
    "# if f:\n",
    "#     print('Yes')\n",
    "# else:\n",
    "#     print('No')\n"
   ]
  },
  {
   "cell_type": "code",
   "execution_count": null,
   "metadata": {},
   "outputs": [],
   "source": [
    "# Not very good in terms of performance\n",
    "# 1\n",
    "S = input()\n",
    "T = \"\"\n",
    "for c in S:\n",
    "    if c == \"o\":\n",
    "        T += \"x\"\n",
    "    else:\n",
    "        T += \"o\"\n",
    "print(T)\n",
    "\n",
    "# Faster and more memory efficient\n",
    "# 2\n",
    "S = input()\n",
    "T = []\n",
    "for s in S:\n",
    "    if s == 'o':\n",
    "        T.append('x')\n",
    "    else:\n",
    "        T.append('o')\n",
    "print(''.join(T))\n"
   ]
  },
  {
   "cell_type": "code",
   "execution_count": 4,
   "metadata": {},
   "outputs": [
    {
     "name": "stdout",
     "output_type": "stream",
     "text": [
      "3\n",
      "d\n",
      "x\n"
     ]
    }
   ],
   "source": [
    "print(ord(\"8\") - ord(\"5\"))\n",
    "print(chr(ord(\"c\") + 1))\n",
    "print(chr(ord(\"X\") + (ord(\"a\") - ord(\"A\"))))\n"
   ]
  },
  {
   "cell_type": "code",
   "execution_count": 5,
   "metadata": {},
   "outputs": [
    {
     "name": "stdout",
     "output_type": "stream",
     "text": [
      "xoror\n"
     ]
    }
   ],
   "source": [
    "S = 'aruru'\n",
    "\n",
    "def caesar_cipher(s):\n",
    "    t = []\n",
    "    SHIFT = 3\n",
    "    for si in s:\n",
    "        code = ord(si) - SHIFT % 26\n",
    "        if code - ord('a') < 0:\n",
    "            code = ord('z') + (code - ord('a')) + 1\n",
    "        t.append(chr(code))\n",
    "\n",
    "    t = ''.join(t)\n",
    "    return t\n",
    "\n",
    "T = caesar_cipher(S)\n",
    "print(T)"
   ]
  },
  {
   "cell_type": "code",
   "execution_count": 8,
   "metadata": {},
   "outputs": [
    {
     "name": "stdout",
     "output_type": "stream",
     "text": [
      "[15, 10, 40, 5, 30]\n"
     ]
    }
   ],
   "source": [
    "poll_info = [90, 60, 240, 30, 180]\n",
    "\n",
    "sum_ = sum(poll_info)\n",
    "for i, e in enumerate(poll_info):\n",
    "    # Not poll_info[i] // sum_ * 100 \n",
    "    # because poll_info[i] // sum_ is 0\n",
    "    # You need to use index to change the list. \n",
    "    poll_info[i] = e * 100 // sum_\n",
    "\n",
    "# poll_info を出力\n",
    "print(poll_info)\n"
   ]
  },
  {
   "cell_type": "code",
   "execution_count": 7,
   "metadata": {},
   "outputs": [
    {
     "name": "stdout",
     "output_type": "stream",
     "text": [
      "[{'name': 'aruru', 'height': 1.7, 'weight': 70.0, 'BMI': 24.2}, {'name': 'iruru', 'height': 1.6, 'weight': 65.0, 'BMI': 25.4}, {'name': 'ururu', 'height': 1.8, 'weight': 70.0, 'BMI': 21.6}, {'name': 'eruru', 'height': 1.5, 'weight': 40.0, 'BMI': 17.8}]\n"
     ]
    }
   ],
   "source": [
    "person_info = [\n",
    "    {\"name\": \"aruru\", \"height\": 1.7, \"weight\": 70.0},\n",
    "    {\"name\": \"iruru\", \"height\": 1.6, \"weight\": 65.0},\n",
    "    {\"name\": \"ururu\", \"height\": 1.8, \"weight\": 70.0},\n",
    "    {\"name\": \"eruru\", \"height\": 1.5, \"weight\": 40.0}\n",
    "]\n",
    "\n",
    "# You can change each dictionary in the list like this without having to use index. \n",
    "for d in person_info:\n",
    "    bmi = d[\"weight\"] / d[\"height\"]**2\n",
    "    d[\"BMI\"] = round(bmi, 1)\n",
    "\n",
    "# person_info を出力\n",
    "print(person_info)\n"
   ]
  },
  {
   "cell_type": "code",
   "execution_count": null,
   "metadata": {},
   "outputs": [],
   "source": [
    "# Binarize the image\n",
    "color_value = [\n",
    "    [223,  19,  70,  58, 152, 237,  44, 142, 182, 188, 183],\n",
    "    [ 54, 136, 156, 235, 115, 237,  57, 231, 232, 193, 253],\n",
    "    [121, 211, 239, 164,  18, 254,  77, 194, 135, 156, 216],\n",
    "    [ 59, 111,   2, 119,  87, 244,  44, 155, 146, 140, 207],\n",
    "    [ 68, 200, 170, 188,  30, 187, 100,  34,  63,   6,   9],\n",
    "    [202, 143, 171, 191, 247, 246, 154, 231, 239, 213, 159],\n",
    "    [227,  92,  84,  64, 141, 167, 225,  41,   0,  29, 222],\n",
    "    [ 79, 212, 136, 213, 220, 189,  95, 168, 222, 213,   0],\n",
    "    [ 24, 223, 185,  36,  80, 212, 104, 133, 203, 217,  92],\n",
    "    [ 28, 181, 182, 170,  67, 153, 108, 213, 133, 236,  90],\n",
    "    [201,  70, 125,  97, 144, 227, 243,  14,   6, 108, 242]\n",
    "]\n",
    "\n",
    "R = len(color_value)\n",
    "C = len(color_value[0])\n",
    "for r in range(R):\n",
    "    for c in range(C):\n",
    "        if color_value[r][c] >= 128:\n",
    "            color_value[r][c] = '.'\n",
    "        else:\n",
    "            color_value[r][c] = '#'\n",
    "    color_value[r] = ''.join(color_value[r])\n",
    "\n",
    "for r in range(R):\n",
    "    print(color_value[r])\n",
    "\n"
   ]
  },
  {
   "cell_type": "code",
   "execution_count": 9,
   "metadata": {},
   "outputs": [
    {
     "name": "stdout",
     "output_type": "stream",
     "text": [
      "i\n",
      "r\n"
     ]
    }
   ],
   "source": [
    "teams = {\n",
    "    \"arurus\": [\"aruru\", \"erara\", \"ukuku\", \"usisi\", \"totoro\"],\n",
    "    \"algos\": [\"dijkstra\", \"prim\", \"kruskal\"],\n",
    "    \"ramdoms\": [\"fadj\", \"vuiawqpv\", \"qpcuvauavhjzcrb\"],\n",
    "    \"keybords\": [\"qwerty\", \"yuiop\", \"asdf\", \"ghjkl\"],\n",
    "    \"bocchi\": [\"hitori\"]\n",
    "}\n",
    "\n",
    "def all_members_have_(c, members):\n",
    "    for m in members:\n",
    "        if c in m:\n",
    "            return True\n",
    "    return False\n",
    "\n",
    "def all_teams_have_(c, teams):\n",
    "    for t in teams.keys():\n",
    "        if not all_members_have_(c, teams[t]):\n",
    "            return False\n",
    "    return True\n",
    "\n",
    "for c in range(ord('a'), ord('z')+1):\n",
    "    c_code = chr(c)\n",
    "    if all_teams_have_(c_code, teams):\n",
    "        print(c_code)\n"
   ]
  },
  {
   "cell_type": "code",
   "execution_count": 10,
   "metadata": {},
   "outputs": [
    {
     "name": "stdout",
     "output_type": "stream",
     "text": [
      "2 0 1 1 0\n"
     ]
    }
   ],
   "source": [
    "S = '3141'\n",
    "counts = [0] * 5\n",
    "for s in S:\n",
    "    # int(s) - 1 because the index of counts starts from 0\n",
    "    counts[int(s)-1] += 1\n",
    "\n",
    "print(*counts)"
   ]
  },
  {
   "cell_type": "code",
   "execution_count": null,
   "metadata": {},
   "outputs": [],
   "source": []
  }
 ],
 "metadata": {
  "kernelspec": {
   "display_name": "data_structure_and_algo",
   "language": "python",
   "name": "python3"
  },
  "language_info": {
   "codemirror_mode": {
    "name": "ipython",
    "version": 3
   },
   "file_extension": ".py",
   "mimetype": "text/x-python",
   "name": "python",
   "nbconvert_exporter": "python",
   "pygments_lexer": "ipython3",
   "version": "3.9.1"
  },
  "orig_nbformat": 4
 },
 "nbformat": 4,
 "nbformat_minor": 2
}
