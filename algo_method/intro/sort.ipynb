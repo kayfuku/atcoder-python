{
 "cells": [
  {
   "attachments": {},
   "cell_type": "markdown",
   "metadata": {},
   "source": [
    "### Sorting"
   ]
  },
  {
   "cell_type": "code",
   "execution_count": 1,
   "metadata": {},
   "outputs": [
    {
     "name": "stdout",
     "output_type": "stream",
     "text": [
      "[1, 1, 2, 3, 4, 5, 9]\n"
     ]
    }
   ],
   "source": [
    "# テスト配列\n",
    "A = [3, 1, 4, 1, 5, 9, 2]\n",
    "\n",
    "# ソート\n",
    "A.sort()\n",
    "\n",
    "# 出力\n",
    "print(A)"
   ]
  },
  {
   "cell_type": "code",
   "execution_count": 2,
   "metadata": {},
   "outputs": [
    {
     "name": "stdout",
     "output_type": "stream",
     "text": [
      "[9, 5, 4, 3, 2, 1, 1]\n"
     ]
    }
   ],
   "source": [
    "A.sort(reverse=True)\n",
    "print(A)"
   ]
  },
  {
   "cell_type": "code",
   "execution_count": 3,
   "metadata": {},
   "outputs": [
    {
     "name": "stdout",
     "output_type": "stream",
     "text": [
      "[('Suzuki', 87, 21), ('Takahashi', 79, 60), ('Kobayashi', 64, 73), ('Sato', 64, 62), ('Aoki', 13, 25)]\n"
     ]
    }
   ],
   "source": [
    "# 生徒のデータ\n",
    "S = [(\"Aoki\", 13, 25),\n",
    "     (\"Kobayashi\", 64, 73),\n",
    "     (\"Sato\", 64, 62),\n",
    "     (\"Suzuki\", 87, 21),\n",
    "     (\"Takahashi\", 79, 60)]\n",
    "\n",
    "# 数学の点数が高い順にソート\n",
    "S.sort(key=lambda s: s[1], reverse=True)\n",
    "\n",
    "# 出力\n",
    "print(S)"
   ]
  },
  {
   "cell_type": "code",
   "execution_count": 5,
   "metadata": {},
   "outputs": [
    {
     "name": "stdout",
     "output_type": "stream",
     "text": [
      "2\n"
     ]
    }
   ],
   "source": [
    "# 中央値を求める\n",
    "N = 3\n",
    "A = [1, 2, 3]\n",
    "\n",
    "# Don't forget to sort the list. \n",
    "A.sort()\n",
    "\n",
    "if N % 2 == 1:\n",
    "    # index must be integer. You must use // instead of /. \n",
    "    print(A[N // 2]) \n",
    "else:\n",
    "    print((A[N // 2 - 1] + A[N // 2]) / 2)"
   ]
  },
  {
   "cell_type": "code",
   "execution_count": 7,
   "metadata": {},
   "outputs": [
    {
     "name": "stdout",
     "output_type": "stream",
     "text": [
      "2\n"
     ]
    }
   ],
   "source": [
    "N, K = 5, 3\n",
    "A = [4, 2, 0, 8, 3]\n",
    "\n",
    "A.sort()\n",
    "\n",
    "min_ = float('inf')\n",
    "# Get used to window of size k. \n",
    "for i in range(N-K+1):\n",
    "    min_ = min(min_, abs(A[i] - A[i+K-1]))\n",
    "print(min_)\n"
   ]
  },
  {
   "cell_type": "code",
   "execution_count": null,
   "metadata": {},
   "outputs": [],
   "source": [
    "## K 個買ったときの合計金額の最小値を求める\n",
    "N, K = map(int, input().split())\n",
    "# (price, stock)\n",
    "S = [tuple(map(int, input().split())) for i in range(N)]\n",
    "\n",
    "# 価格が小さい順に並び替える\n",
    "# tuple はデフォルトで第一引数が優先される (デフォルト比較で OK)\n",
    "S.sort()\n",
    "\n",
    "# K 個になるまで払い続ける\n",
    "res = 0\n",
    "for (A, B) in S:\n",
    "    # 買う個数\n",
    "    num = min(K, B)\n",
    "    # 買う\n",
    "    K -= num\n",
    "    # 払う\n",
    "    res += A * num\n",
    "    if K == 0:\n",
    "        break\n",
    "\n",
    "print(res)\n"
   ]
  },
  {
   "cell_type": "code",
   "execution_count": null,
   "metadata": {},
   "outputs": [],
   "source": [
    "## Double booking\n",
    "N = int(input())\n",
    "C = [tuple(map(int, input().split())) for _ in range(N)]\n",
    "\n",
    "# Sort by start time\n",
    "C.sort(key=lambda x: x[0])\n",
    "\n",
    "prev_e = 0\n",
    "for (s, e) in C:\n",
    "    if s < prev_e:\n",
    "        print('No')\n",
    "        exit()\n",
    "    prev_e = e\n",
    "\n",
    "print('Yes')\n"
   ]
  },
  {
   "cell_type": "code",
   "execution_count": null,
   "metadata": {},
   "outputs": [],
   "source": [
    "## Sort by math in descending order, and then by total score in ascending order.\n",
    "N = int(input())\n",
    "S = [input().split() for i in range(N)]\n",
    "S = [(s[0], int(s[1]), int(s[2])) for s in S]\n",
    "\n",
    "# If math is the same, sort by total score in ascending order.\n",
    "# sort() is stable. \n",
    "S.sort(key=lambda s: (-s[1], s[1]+s[2]))\n",
    "\n",
    "for s in S:\n",
    "    print(\"{} {} {}\".format(s[0], s[1], s[2]))\n",
    "    "
   ]
  },
  {
   "cell_type": "code",
   "execution_count": null,
   "metadata": {},
   "outputs": [],
   "source": [
    "N, X = map(int, input().split())\n",
    "S = []\n",
    "for i in range(N):\n",
    "\ts, h = input().split()\n",
    "\tS.append((s, int(h), i))\n",
    "\n",
    "S.sort(key=lambda s: (s[1], s[2]))\n",
    "\n",
    "for i, s in enumerate(S):\n",
    "    if s[2] == X:\n",
    "        print(S[i-1][0])\n",
    "        print(S[i+1][0])\n",
    "        exit()\n",
    "        "
   ]
  },
  {
   "cell_type": "code",
   "execution_count": null,
   "metadata": {},
   "outputs": [],
   "source": [
    "# 座標圧縮（座圧）\n",
    "N = int(input())\n",
    "A = list(map(int, input().split()))\n",
    "\n",
    "# Remove tie scores and sort in descending order and put it in B.\n",
    "# sorted() returns a new list.\n",
    "B = sorted(set(A), reverse=True)\n",
    "\n",
    "# B の各要素が何番目の要素なのかを辞書型で管理する\n",
    "order = {v: i for i, v in enumerate(B)}\n",
    "\n",
    "# 再び A の各要素の順位を求めていく\n",
    "for a in A:\n",
    "    print(order[a])\n"
   ]
  },
  {
   "cell_type": "code",
   "execution_count": null,
   "metadata": {},
   "outputs": [],
   "source": [
    "## Sort by the number of votes in descending order, and then by the number of the candidate in ascending order.\n",
    "N = int(input())\n",
    "A = list(map(int, input().split()))\n",
    "\n",
    "# votes[i] に i 番目の候補者の得票数を格納する\n",
    "votes = [0] * N\n",
    "for ai in A:\n",
    "    votes[ai] += 1\n",
    "\n",
    "S = [i for i in range(N)]\n",
    "# sort() is stable. \n",
    "S.sort(key=lambda i: votes[i], reverse=True)\n",
    "\n",
    "for i in S:\n",
    "    print(i, votes[i])\n"
   ]
  },
  {
   "cell_type": "code",
   "execution_count": null,
   "metadata": {},
   "outputs": [],
   "source": []
  },
  {
   "cell_type": "code",
   "execution_count": null,
   "metadata": {},
   "outputs": [],
   "source": []
  },
  {
   "cell_type": "code",
   "execution_count": null,
   "metadata": {},
   "outputs": [],
   "source": []
  }
 ],
 "metadata": {
  "kernelspec": {
   "display_name": "data_structure_and_algo",
   "language": "python",
   "name": "python3"
  },
  "language_info": {
   "codemirror_mode": {
    "name": "ipython",
    "version": 3
   },
   "file_extension": ".py",
   "mimetype": "text/x-python",
   "name": "python",
   "nbconvert_exporter": "python",
   "pygments_lexer": "ipython3",
   "version": "3.9.1"
  },
  "orig_nbformat": 4
 },
 "nbformat": 4,
 "nbformat_minor": 2
}
